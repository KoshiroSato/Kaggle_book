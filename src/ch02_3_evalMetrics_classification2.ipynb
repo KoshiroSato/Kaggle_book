{
 "cells": [
  {
   "cell_type": "markdown",
   "metadata": {},
   "source": [
    "# 二値分類タスクにおける評価指標"
   ]
  },
  {
   "cell_type": "markdown",
   "metadata": {},
   "source": [
    "## ・正例である確率を予測値とする場合"
   ]
  },
  {
   "cell_type": "markdown",
   "metadata": {},
   "source": [
    "## logloss"
   ]
  },
  {
   "cell_type": "markdown",
   "metadata": {},
   "source": [
    "$$ \n",
    "\\large logloss = - \\frac{1}{N}\\sum_{i=1}^{N} \\left( {y}_i \\log {p}_i+ (1 - {y}_i) \\log (1 - {p}_i) \\right)\n",
    "$$"
   ]
  },
  {
   "cell_type": "markdown",
   "metadata": {},
   "source": [
    "$$\n",
    "\\large = -\\frac{1}{N}\\sum_{i=1}^{N}\\log {p}'_i\n",
    "$$"
   ]
  },
  {
   "cell_type": "markdown",
   "metadata": {},
   "source": [
    "${y}_i:$ 正例か負例かを表すラベル。\n",
    "\n",
    "${p}_i:$ 各レコードが正例である予測確率。負例の場合は$1-{p}_i$\n",
    "\n",
    "${p}'_i:$ 真の値を予測している確率。"
   ]
  },
  {
   "cell_type": "markdown",
   "metadata": {},
   "source": [
    "・分類タスクにおける代表的な評価指標。cross entropyとも言われる。\n",
    "\n",
    "・真の値である確率の対数をとり、符号を反転させる。\n",
    "\n",
    "・特性として、予測確率が真の値と乖離するほどペナルティが与えられ、スコアに反映される。"
   ]
  },
  {
   "cell_type": "code",
   "execution_count": 1,
   "metadata": {},
   "outputs": [
    {
     "name": "stdout",
     "output_type": "stream",
     "text": [
      "0.7135581778200728\n"
     ]
    }
   ],
   "source": [
    "import numpy as np\n",
    "from sklearn.metrics import log_loss\n",
    "\n",
    "y_true = [1, 0, 1, 1, 0, 1]\n",
    "y_prob = [0.1, 0.2, 0.8, 0.8, 0.1, 0.3]\n",
    "\n",
    "logloss = log_loss(y_true, y_prob)\n",
    "print(logloss)"
   ]
  },
  {
   "cell_type": "markdown",
   "metadata": {},
   "source": [
    "## AUC(Area under the ROC curve)"
   ]
  },
  {
   "cell_type": "markdown",
   "metadata": {},
   "source": [
    "・これも二値分類に於ける代表的な評価指標で、ROC曲線が描く曲線をもとに計算される。\n",
    "\n",
    "・ROC曲線下部の面積がAUC。"
   ]
  },
  {
   "cell_type": "code",
   "execution_count": 2,
   "metadata": {},
   "outputs": [
    {
     "data": {
      "image/png": "[encoded data removed]",
      "text/plain": [
       "<Figure size 432x288 with 1 Axes>"
      ]
     },
     "metadata": {
      "needs_background": "light"
     },
     "output_type": "display_data"
    },
    {
     "name": "stdout",
     "output_type": "stream",
     "text": [
      "thresholds:  [1.8 0.8 0.3 0.2 0.1]\n"
     ]
    }
   ],
   "source": [
    "import matplotlib.pyplot as plt\n",
    "from sklearn.metrics import roc_curve\n",
    "from sklearn.metrics import roc_auc_score\n",
    "\n",
    "\n",
    "y_true = [1, 0, 1, 1, 0, 1]\n",
    "y_prob = [0.1, 0.2, 0.8, 0.8, 0.1, 0.3]\n",
    "\n",
    "\n",
    "# fpr(偽陽性率): 負例の内、誤って正例と予測した負例の確率 (FP / (FP + TN))\n",
    "# tpr(真陽性率): 正例の内、正しく正例と予測した正例の確率 (TP / (TP + FN))\n",
    "\n",
    "# 完全な予測(auc=1.0)を行った場合\n",
    "fpr, tpr, thresholds = roc_curve(y_true, y_true)\n",
    "auc1 = roc_auc_score(y_true, y_true)\n",
    "plt.plot(fpr, tpr, marker='o', label='pred(auc=%.1f)' % auc1)\n",
    "\n",
    "\n",
    "fpr, tpr, thresholds = roc_curve(y_true, y_prob)\n",
    "auc2 = roc_auc_score(y_true, y_prob)\n",
    "plt.plot(fpr, tpr, marker='o', label='pred(auc=%.4f)' % auc2)\n",
    "x = np.linspace(0, 1, 10)\n",
    "plt.plot(x, x, linestyle=\"dashed\", label='random pred(auc=0.5)')\n",
    "plt.xlabel('fpr', fontsize=18)\n",
    "plt.ylabel('tpr', fontsize=18)\n",
    "plt.legend()\n",
    "plt.grid()\n",
    "plt.show()\n",
    "print('thresholds: ', thresholds)"
   ]
  },
  {
   "cell_type": "markdown",
   "metadata": {},
   "source": [
    "最初の点を左下(0.0, 0.0)とし、閾値を徐々に低くしていくと、正例と予測されるレコードが増えていく。\n",
    "\n",
    "それらのレコードにtpがあれば上に進み、fpがあれば左に進む。最終的に右上(1.0, 1.0)へたどり着く。"
   ]
  },
  {
   "cell_type": "markdown",
   "metadata": {},
   "source": [
    "                   "
   ]
  },
  {
   "cell_type": "code",
   "execution_count": 3,
   "metadata": {},
   "outputs": [
    {
     "name": "stdout",
     "output_type": "stream",
     "text": [
      "roc_auc_score:  0.75\n",
      "roc_auc_score:  0.75\n"
     ]
    }
   ],
   "source": [
    "# AUCは各レコードの大小関係のみが影響する\n",
    "y_true = [0, 1, 1, 0]\n",
    "y_prob = [0.1, 0.3, 0.9, 0.7]\n",
    "print('roc_auc_score: ', roc_auc_score(y_true, y_prob))\n",
    "\n",
    "y_prob = [0.01, 0.03, 0.09, 0.07]\n",
    "print('roc_auc_score: ', roc_auc_score(y_true, y_prob))"
   ]
  },
  {
   "cell_type": "code",
   "execution_count": 4,
   "metadata": {},
   "outputs": [
    {
     "name": "stdout",
     "output_type": "stream",
     "text": [
      "clf score:  0.9574189321978381\n"
     ]
    }
   ],
   "source": [
    "from sklearn.preprocessing import StandardScaler\n",
    "from sklearn.model_selection import train_test_split\n",
    "from sklearn.datasets import load_breast_cancer\n",
    "from sklearn.tree import DecisionTreeClassifier\n",
    "\n",
    "cancer = load_breast_cancer()\n",
    "X = cancer.data; y = cancer.target\n",
    "train_x, test_x, train_y, test_y = train_test_split(X, y, test_size=0.2, random_state=42)\n",
    "ssc = StandardScaler()\n",
    "train_x = ssc.fit_transform(train_x)\n",
    "test_x = ssc.transform(test_x)\n",
    "\n",
    "\n",
    "clf = DecisionTreeClassifier(max_depth=3, random_state=42)\n",
    "clf.fit(train_x, train_y)\n",
    "clf_prob = clf.predict_proba(test_x)[:, 1]\n",
    "print('clf score: ', roc_auc_score(test_y, clf_prob))"
   ]
  },
  {
   "cell_type": "markdown",
   "metadata": {},
   "source": [
    "# 多クラス分類における評価指標"
   ]
  },
  {
   "cell_type": "markdown",
   "metadata": {},
   "source": [
    "## multi-class accuracy\n",
    "\n",
    "・二値分類のaccuracyを多クラスへ拡張したもの。"
   ]
  },
  {
   "cell_type": "code",
   "execution_count": 5,
   "metadata": {},
   "outputs": [
    {
     "name": "stdout",
     "output_type": "stream",
     "text": [
      "0.625\n"
     ]
    }
   ],
   "source": [
    "from sklearn.metrics import accuracy_score\n",
    "\n",
    "y_true = [1, 0, 2, 0, 1, 2, 1, 2]\n",
    "y_pred = [1, 1, 2, 0, 1, 2, 0, 1]\n",
    "\n",
    "accuracy = accuracy_score(y_true, y_pred)\n",
    "print(accuracy)"
   ]
  },
  {
   "cell_type": "markdown",
   "metadata": {},
   "source": [
    "## multi-class logloss"
   ]
  },
  {
   "cell_type": "markdown",
   "metadata": {},
   "source": [
    "$$\n",
    "\\large multiclass\\hspace{1mm} logloss = -\\frac{1}{N}\\sum_{i=1}^{N}\\sum_{m=1}^{M}y_{i,m}\\log p_{i,m}\n",
    "$$"
   ]
  },
  {
   "cell_type": "markdown",
   "metadata": {},
   "source": [
    "$M:$クラス数。\n",
    "\n",
    "${y}_{i,m}:$レコード$i$がクラス$m$に属する場合は1で、属さない場合は0になる。\n",
    "\n",
    "${p}_{i,m}:$レコード$i$がクラス$m$に属する予測確率。"
   ]
  },
  {
   "cell_type": "markdown",
   "metadata": {},
   "source": [
    "・二値分類のloglossを多クラスへ拡張したもの。\n",
    "\n",
    "・評価指標への入力は、レコード数×クラス数の行列。\n",
    "\n",
    "・ペナルティはlogloss同様。\n",
    "\n",
    "・各レコードにおける、クラス別の予測確率合計は1になる必要がある。"
   ]
  },
  {
   "cell_type": "code",
   "execution_count": 6,
   "metadata": {},
   "outputs": [
    {
     "name": "stdout",
     "output_type": "stream",
     "text": [
      "0.3625557672904274\n"
     ]
    }
   ],
   "source": [
    "y_true = np.array([0, 2, 1, 2, 2])\n",
    "y_prob = np.array([[0.68, 0.32, 0.00],\n",
    "                   [0.00, 0.00, 1.00],\n",
    "                   [0.60, 0.40, 0.00],\n",
    "                   [0.00, 0.00, 1.00],\n",
    "                   [0.28, 0.12, 0.60]])\n",
    "\n",
    "logloss = log_loss(y_true, y_prob)\n",
    "print(logloss)"
   ]
  },
  {
   "cell_type": "markdown",
   "metadata": {},
   "source": [
    "## mean-F1, macro-F1, micro-F1"
   ]
  },
  {
   "cell_type": "markdown",
   "metadata": {},
   "source": [
    "・F1-scoreを多クラスへ拡張したもの。\n",
    "\n",
    "・主にマルチラベル分類タスクで用いられる。\n",
    "\n",
    "マルチラベル分類：各レコードに対して、１つ、または複数のラベルが割り当てられる分類。\n",
    "\n",
    "### mean-F1\n",
    "\n",
    "レコード単位でF1スコアを計算し、平均をとる。\n",
    "\n",
    "### macro-F1\n",
    "\n",
    "各クラスごとのF1スコアを計算し、その平均をとる。\n",
    "\n",
    "### micro-F1\n",
    "\n",
    "レコード×クラスの行列に対して、TP, TN, FP, FN のどれに当てはまるかカウントし、それを元にしたconfusion matrixからF値を計算。\n"
   ]
  },
  {
   "cell_type": "code",
   "execution_count": 7,
   "metadata": {},
   "outputs": [
    {
     "name": "stdout",
     "output_type": "stream",
     "text": [
      "mean_f1:  0.5933333333333334\n",
      "macro_f1:  0.5523809523809523\n",
      "micro_f1:  0.6250000000000001\n"
     ]
    }
   ],
   "source": [
    "from sklearn.metrics import f1_score\n",
    "\n",
    "                  # 1  2  3\n",
    "y_true = np.array([[1, 1, 0],\n",
    "                   [1, 0, 0],\n",
    "                   [1, 1, 1],\n",
    "                   [0, 1, 1],\n",
    "                   [0, 0, 1]])\n",
    "\n",
    "                  # 1  2  3\n",
    "y_pred = np.array([[1, 0, 1],\n",
    "                   [0, 1, 0],\n",
    "                   [1, 0, 1],\n",
    "                   [0, 0, 1],\n",
    "                   [0, 0, 1]])\n",
    "\n",
    "print('mean_f1: ', f1_score(y_true, y_pred, average='samples'))\n",
    "print('macro_f1: ', f1_score(y_true, y_pred, average='macro'))\n",
    "print('micro_f1: ', f1_score(y_true, y_pred, average='micro'))"
   ]
  },
  {
   "cell_type": "markdown",
   "metadata": {},
   "source": [
    "## quadratic weighted kappa"
   ]
  },
  {
   "cell_type": "markdown",
   "metadata": {},
   "source": [
    "$$\n",
    "\\large k = 1-\\frac{\\sum_{i,j}w_{i,j}O_{i,j}}{\\sum_{i,j}w_{i,j}E_{i,j}}\n",
    "$$"
   ]
  },
  {
   "cell_type": "markdown",
   "metadata": {},
   "source": [
    "$i$は真の値のクラス。$j$は予測値のレコード数。"
   ]
  },
  {
   "cell_type": "markdown",
   "metadata": {},
   "source": [
    "$O{i,j}:$ 多クラスのconfusion matrix$(i,j)$。<br>\n",
    "\n",
    "$E{i,j}:$ $i,j$の分布が互いに独立(すなわち無相関)であるとした場合、\n",
    "\n",
    "真の値がで$i$ある確率 * 予測値が$j$である割合 * データ全体の割合 から計算される、\n",
    "\n",
    "confusion matrixの各セル$(i,j)$に属するレコード数の期待値。<br>\n",
    "\n",
    "$w{i,j}:$ $(i,j)$の二乗誤差。予測値が大きく外せば、ペナルティになる。　\n"
   ]
  },
  {
   "cell_type": "markdown",
   "metadata": {},
   "source": [
    "・クラス間に順序関係がある場合（例: アンケートのレーティング）使用される。\n",
    "\n",
    "・完全な予測を行った場合は1、ランダムな予測を行った場合は0、ランダムより悪い予測を行った場合は負の値になる。\n",
    "\n",
    "・予測値の各クラスの割合により分母の値が変わる為、予測値を変えたときの動きが理解しづらい。"
   ]
  },
  {
   "cell_type": "code",
   "execution_count": 8,
   "metadata": {},
   "outputs": [
    {
     "name": "stdout",
     "output_type": "stream",
     "text": [
      "kappa 0.6153846153846154\n",
      "sk-kappa 0.6153846153846154\n"
     ]
    }
   ],
   "source": [
    "from sklearn.metrics import confusion_matrix, cohen_kappa_score\n",
    "\n",
    "def quadratic_weighted_kappa(c_matrix):\n",
    "    numer = 0.0\n",
    "    denom = 0.0\n",
    "    \n",
    "    for i in range(c_matrix.shape[0]):\n",
    "        for j in range(c_matrix.shape[1]):\n",
    "            n = c_matrix.shape[0]\n",
    "            wij = ((i - j) ** 2.0)\n",
    "            oij = c_matrix[i, j]\n",
    "            eij = c_matrix[i, :].sum() * c_matrix[:, j].sum() / c_matrix.sum()\n",
    "            numer += wij * oij\n",
    "            denom += wij * eij\n",
    "            \n",
    "    return 1.0 - numer / denom\n",
    "\n",
    "\n",
    "y_true = [1, 2, 3, 4, 3]\n",
    "y_pred = [2, 2, 4, 4, 5]\n",
    "\n",
    "# 真の値と予測値から、confusion matrix生成。\n",
    "c_matrix = confusion_matrix(y_true, y_pred, labels=[1, 2, 3, 4, 5])\n",
    "\n",
    "kappa = quadratic_weighted_kappa(c_matrix)\n",
    "print('kappa', kappa)\n",
    "\n",
    "#scikit-learn使用例\n",
    "kappa = cohen_kappa_score(y_true, y_pred, weights='quadratic')\n",
    "print('sk-kappa', kappa)"
   ]
  }
 ],
 "metadata": {
  "kernelspec": {
   "display_name": "Python 3",
   "language": "python",
   "name": "python3"
  },
  "language_info": {
   "codemirror_mode": {
    "name": "ipython",
    "version": 3
   },
   "file_extension": ".py",
   "mimetype": "text/x-python",
   "name": "python",
   "nbconvert_exporter": "python",
   "pygments_lexer": "ipython3",
   "version": "3.6.9"
  }
 },
 "nbformat": 4,
 "nbformat_minor": 2
}
