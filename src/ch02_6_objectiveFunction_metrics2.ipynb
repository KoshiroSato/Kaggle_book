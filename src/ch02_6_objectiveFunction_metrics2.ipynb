{
 "cells": [
  {
   "cell_type": "markdown",
   "metadata": {},
   "source": [
    "# 評価指標の最適化の例\n",
    "\n",
    "## balanced accuracyの最適化"
   ]
  },
  {
   "cell_type": "markdown",
   "metadata": {},
   "source": [
    "$$\n",
    "Balanced Accuracy = \\frac{1}{M}\\sum_{m=1}^{M}\\frac{r_m}{n_m}\n",
    "$$"
   ]
  },
  {
   "cell_type": "markdown",
   "metadata": {},
   "source": [
    "$M:$クラス数\n",
    "\n",
    "$n_m:$クラス$m$に属するデータ数\n",
    "\n",
    "$r_m:$クラス$m$に属するデータの内、正しく予測できたデータ数"
   ]
  },
  {
   "cell_type": "markdown",
   "metadata": {},
   "source": [
    "通常のaccuracyを真の値のクラスの割合の逆数に比例した重み付けで計算したもの。\n",
    "\n",
    "少数しか無いクラスの正しい予測がスコアに大きな影響をもたらす形になる。（少数クラスの正答のほうが価値がある。）\n",
    "\n",
    "そのため不均衡データセットによる分類の場合、クラス別の予測確率×クラスの割合の逆数が最大になるクラスを選択する方法や、クラス別の重み付けを考慮する必要がある。"
   ]
  },
  {
   "cell_type": "code",
   "execution_count": 1,
   "metadata": {},
   "outputs": [
    {
     "name": "stdout",
     "output_type": "stream",
     "text": [
      "0    59\n",
      "1    71\n",
      "2     9\n",
      "dtype: int64\n"
     ]
    }
   ],
   "source": [
    "## クラス別重み付け\n",
    "\n",
    "import warnings\n",
    "warnings.simplefilter('ignore')\n",
    "import numpy as np\n",
    "import pandas as pd\n",
    "from sklearn.svm import SVC\n",
    "from sklearn.model_selection import train_test_split\n",
    "from sklearn.datasets import load_wine\n",
    "from sklearn.metrics import balanced_accuracy_score\n",
    "\n",
    "# 不均衡なデータセットにする\n",
    "data = load_wine().data[:139]\n",
    "target = load_wine().target[:139]\n",
    "print(pd.Series(target).value_counts(sort=False))\n",
    "train_x, valid_x, train_y, valid_y = train_test_split(data, target, test_size=0.2, random_state=42, stratify=target)"
   ]
  },
  {
   "cell_type": "code",
   "execution_count": 2,
   "metadata": {},
   "outputs": [
    {
     "name": "stdout",
     "output_type": "stream",
     "text": [
      "balanced accuracy score:  0.6388888888888888\n"
     ]
    }
   ],
   "source": [
    "# class weightを考慮しなければ精度は低い\n",
    "model = SVC(random_state=42)\n",
    "model.fit(train_x, train_y)\n",
    "pred = model.predict(valid_x)\n",
    "\n",
    "print('balanced accuracy score: ', balanced_accuracy_score(valid_y, pred))"
   ]
  },
  {
   "cell_type": "code",
   "execution_count": 3,
   "metadata": {},
   "outputs": [
    {
     "name": "stdout",
     "output_type": "stream",
     "text": [
      "class weights:  [0.78531073 0.65258216 5.14814815]\n",
      "balanced accuracy score:  0.8293650793650794\n"
     ]
    }
   ],
   "source": [
    "from sklearn.utils.class_weight import compute_class_weight\n",
    "\n",
    "class_weights = compute_class_weight('balanced', np.unique(target), target)\n",
    "print('class weights: ', class_weights)\n",
    "\n",
    "# class_weight='balanced'でも同じ効果が得られる\n",
    "model = SVC(random_state=42, class_weight={0: class_weights[0], 1: class_weights[1], 2: class_weights[2]})\n",
    "model.fit(train_x, train_y)\n",
    "pred = model.predict(valid_x)\n",
    "\n",
    "print('balanced accuracy score: ', balanced_accuracy_score(valid_y, pred))"
   ]
  }
 ],
 "metadata": {
  "kernelspec": {
   "display_name": "Python 3",
   "language": "python",
   "name": "python3"
  },
  "language_info": {
   "codemirror_mode": {
    "name": "ipython",
    "version": 3
   },
   "file_extension": ".py",
   "mimetype": "text/x-python",
   "name": "python",
   "nbconvert_exporter": "python",
   "pygments_lexer": "ipython3",
   "version": "3.6.9"
  }
 },
 "nbformat": 4,
 "nbformat_minor": 2
}
