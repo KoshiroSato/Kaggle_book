{
 "cells": [
  {
   "cell_type": "markdown",
   "metadata": {},
   "source": [
    "# 回帰タスクにおける評価指標\n"
   ]
  },
  {
   "cell_type": "markdown",
   "metadata": {},
   "source": [
    "## RMSE(Root Mean Squared Error)\n",
    "\n",
    "$$\n",
    "\\large RMSE = \\sqrt{ \\displaystyle\\frac{1}{N} \\sum_{i=1}^{N} (y_i - \\hat{y_i})^{2}}\n",
    "$$"
   ]
  },
  {
   "cell_type": "markdown",
   "metadata": {},
   "source": [
    "$N:$ レコード数\n",
    "\n",
    "$i:$ 各レコードのインデックス\n",
    "\n",
    "$yi:$ i番目のレコードの真の値\n",
    "\n",
    "$\\hat{y_i}:$ i番目のレコードの予測値"
   ]
  },
  {
   "cell_type": "markdown",
   "metadata": {},
   "source": [
    "・回帰タスクで最も代表的な指標。\n",
    "\n",
    "・各レコードの目的変数の真の値と予測値の差を二乗し（二乗誤差）、それらの平均の平方根をとる。\n",
    "\n",
    "・後述のMAEと比較すると、外れ値の影響を受けやすく、外れ値に過剰適合しないよう、処理を予めしておく必要がある。"
   ]
  },
  {
   "cell_type": "code",
   "execution_count": 1,
   "metadata": {},
   "outputs": [
    {
     "name": "stdout",
     "output_type": "stream",
     "text": [
      "0.5531726674375732\n"
     ]
    }
   ],
   "source": [
    "import numpy as np\n",
    "from sklearn.metrics import mean_squared_error\n",
    "\n",
    "y_true = [1.0, 1.5, 2.0, 1.2, 1.8] # 真の値\n",
    "y_pred = [0.8, 1.5, 1.8, 1.3, 3.0] # 予測値\n",
    "\n",
    "rmse = np.sqrt(mean_squared_error(y_true, y_pred))\n",
    "print(rmse)"
   ]
  },
  {
   "cell_type": "markdown",
   "metadata": {},
   "source": [
    "## RMSLE(Root Mean Squared Logarithmic Error)\n",
    "\n",
    "$$\n",
    "\\large RMSLE = \\sqrt{ \\displaystyle\\frac{1}{N} \\sum_{i=1}^{N} (log(1+y_i)-log(1+\\hat{y_i}))^{2}}\n",
    "$$"
   ]
  },
  {
   "cell_type": "markdown",
   "metadata": {},
   "source": [
    "・値が負に発散をするのを防ぐため、1を足す。\n",
    "\n",
    "・各レコードの目的変数の真の値と予測値の対数をそれぞれ取り、その差を二乗し、それらの平均の平方根をとる。\n",
    "\n",
    "・目的変数が袖の重い分布（緩やかに減衰する分布の総称）を持ち、変換しないと大きな値の影響が懸念される場合や、\n",
    "真の値と予測値の比率に着目したい場合に用いる。"
   ]
  },
  {
   "cell_type": "code",
   "execution_count": 2,
   "metadata": {},
   "outputs": [
    {
     "name": "stdout",
     "output_type": "stream",
     "text": [
      "0.17032547044118185\n"
     ]
    }
   ],
   "source": [
    "from sklearn.metrics import mean_squared_log_error\n",
    "\n",
    "rmsle = np.sqrt(mean_squared_log_error(y_true, y_pred))\n",
    "print(rmsle)"
   ]
  },
  {
   "cell_type": "markdown",
   "metadata": {},
   "source": [
    "## MAE(Mean Absolute Error)\n",
    "\n",
    "$$\n",
    "\\large MAE = \\displaystyle\\frac{1}{N} \\sum_{i=1}^{N} |{y}_i-\\hat{y}_i|\n",
    "$$"
   ]
  },
  {
   "cell_type": "markdown",
   "metadata": {},
   "source": [
    "・真の値と予測値の差の絶対値の平均。\n",
    "\n",
    "・外れ値の影響を低減した形の評価に適している。（ロバスト性が高いとも言える。）"
   ]
  },
  {
   "cell_type": "markdown",
   "metadata": {},
   "source": [
    "MAEを最小化する予測値は中央値。\n",
    "\n",
    "[1 ,2, 3, 4, 10]と予測値があった場合、仮に1つの代表値で予測した場合、最も小さくなるのは3。"
   ]
  },
  {
   "cell_type": "code",
   "execution_count": 3,
   "metadata": {},
   "outputs": [
    {
     "name": "stdout",
     "output_type": "stream",
     "text": [
      "0.33999999999999997\n"
     ]
    }
   ],
   "source": [
    "from sklearn.metrics import mean_absolute_error\n",
    "\n",
    "mae = mean_absolute_error(y_true, y_pred)\n",
    "print(mae)"
   ]
  },
  {
   "cell_type": "markdown",
   "metadata": {},
   "source": [
    "## 決定係数(R^2)\n",
    "\n",
    "$$ \n",
    "\\large {R^{2}} = 1 - \\frac{ \\sum_{i=1}^{N} { ( {y}_i - \\hat{y}_{i} ) }^{2} }{ \\sum_{i=1}^{N} { ( {y}_i - \\bar{y}) }^{2} }\n",
    "$$"
   ]
  },
  {
   "cell_type": "markdown",
   "metadata": {},
   "source": [
    "$$\n",
    "\\large \\bar y = \\displaystyle\\frac{1}{N} \\sum_{i=1}^{N} {y}_i\n",
    "$$"
   ]
  },
  {
   "cell_type": "markdown",
   "metadata": {},
   "source": [
    "・回帰分析の当てはまりの良さを評価。\n",
    "\n",
    "・最大は１で、１に近づくほど精度の高い予測が出来ていることになる。\n",
    "\n",
    "・分母に予測値はなく、分子は真の値と予測値の二重誤差になっているため、この指標を最大化することは、\n",
    "RMSEを最小化することと同じ。"
   ]
  },
  {
   "cell_type": "code",
   "execution_count": 4,
   "metadata": {},
   "outputs": [
    {
     "name": "stdout",
     "output_type": "stream",
     "text": [
      "-1.2499999999999996\n"
     ]
    }
   ],
   "source": [
    "from sklearn.metrics import r2_score\n",
    "\n",
    "r2 = r2_score(y_true, y_pred)\n",
    "print(r2)"
   ]
  }
 ],
 "metadata": {
  "kernelspec": {
   "display_name": "Python 3",
   "language": "python",
   "name": "python3"
  },
  "language_info": {
   "codemirror_mode": {
    "name": "ipython",
    "version": 3
   },
   "file_extension": ".py",
   "mimetype": "text/x-python",
   "name": "python",
   "nbconvert_exporter": "python",
   "pygments_lexer": "ipython3",
   "version": "3.6.9"
  }
 },
 "nbformat": 4,
 "nbformat_minor": 2
}
