{
 "cells": [
  {
   "cell_type": "markdown",
   "metadata": {},
   "source": [
    "# レコメンデーションにおける評価指標"
   ]
  },
  {
   "cell_type": "markdown",
   "metadata": {},
   "source": [
    "## MAP@K(Mean Average Precision @ K)\n",
    "\n",
    "$$\n",
    "\\large MAP@K=\\frac{1}{N}\\sum_{i=1}^{N}\\left(\\frac{1}{min(m_{i},K)}\\sum_{k=1}^{K}P_{i}(k)\\right)\n",
    "$$"
   ]
  },
  {
   "cell_type": "markdown",
   "metadata": {},
   "source": [
    "$m_{i}:$ レコード $i$ に属しているクラスの数。"
   ]
  },
  {
   "cell_type": "markdown",
   "metadata": {},
   "source": [
    "$P_{i}(k):$ 1~ $K$ までで予測する順位 $k$ (順に予測していく)の予測値で計算される精度。正解である場合のみ値をとり、そうでなければ0とする。"
   ]
  },
  {
   "cell_type": "markdown",
   "metadata": {},
   "source": [
    "・各レコードが1つまたは複数のクラスに属している時に、属している可能性が高いと予測する順に任意の数$k$個のクラスを予測値とする。"
   ]
  },
  {
   "cell_type": "code",
   "execution_count": 1,
   "metadata": {},
   "outputs": [
    {
     "name": "stdout",
     "output_type": "stream",
     "text": [
      "0.6499999999999999\n",
      "1.0\n",
      "0.5833333333333333\n"
     ]
    }
   ],
   "source": [
    "import numpy as np\n",
    "\n",
    "\n",
    "K = 3\n",
    "\n",
    "# レコード数５，クラスは４\n",
    "y_true = [[1, 2], [1, 2], [4], [1, 2, 3, 4], [3, 4]]\n",
    "# k=3なので３個ずつ。(もしくはそれ以下)\n",
    "# 正解の数が収まっていても順位に誤りがあれば、スコアは下がる\n",
    "y_pred = [[1, 2, 4], [4, 1, 2], [1, 4, 3], [1, 2, 3], [1, 2, 4]]\n",
    "\n",
    "\n",
    "def apk(y_i_true, y_i_pred):\n",
    "    # 上記の条件を定義\n",
    "    assert (len(y_i_pred) <= K)\n",
    "    assert (len(np.unique(y_i_pred) == len(y_i_pred)))\n",
    "    \n",
    "    sum_precision = 0.0\n",
    "    num_hits = 0.0\n",
    "\n",
    "    for i, p in enumerate(y_i_pred):\n",
    "        if p in y_i_true:\n",
    "            num_hits += 1\n",
    "            precision = num_hits / (i + 1)\n",
    "            sum_precision += precision\n",
    "            \n",
    "    return sum_precision / min(len(y_i_true), K)\n",
    "\n",
    "\n",
    "def mapk(y_true, y_pred):\n",
    "    return np.mean([apk(y_i_true, y_i_pred) for y_i_true, y_i_pred in zip(y_true, y_pred)])\n",
    "\n",
    "print(mapk(y_true, y_pred))\n",
    "\n",
    "# 正解の数が収まっていても順位に誤りがあれば、スコアは下がる\n",
    "print(apk(y_true[0], y_pred[0]))\n",
    "print(apk(y_true[1], y_pred[1]))"
   ]
  }
 ],
 "metadata": {
  "kernelspec": {
   "display_name": "Python 3",
   "language": "python",
   "name": "python3"
  },
  "language_info": {
   "codemirror_mode": {
    "name": "ipython",
    "version": 3
   },
   "file_extension": ".py",
   "mimetype": "text/x-python",
   "name": "python",
   "nbconvert_exporter": "python",
   "pygments_lexer": "ipython3",
   "version": "3.6.9"
  }
 },
 "nbformat": 4,
 "nbformat_minor": 2
}
