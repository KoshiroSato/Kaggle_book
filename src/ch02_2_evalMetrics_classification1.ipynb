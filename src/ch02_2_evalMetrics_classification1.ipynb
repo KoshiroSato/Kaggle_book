{
 "cells": [
  {
   "cell_type": "markdown",
   "metadata": {},
   "source": [
    "# 二値分類タスクにおける評価指標\n",
    "\n",
    "書籍p.67~72"
   ]
  },
  {
   "cell_type": "markdown",
   "metadata": {},
   "source": [
    "## ・正例か負例かを予測値とする場合"
   ]
  },
  {
   "cell_type": "markdown",
   "metadata": {},
   "source": [
    "## Confusion matrix"
   ]
  },
  {
   "cell_type": "code",
   "execution_count": 1,
   "metadata": {},
   "outputs": [
    {
     "name": "stdout",
     "output_type": "stream",
     "text": [
      "[[3 1]\n",
      " [2 2]]\n",
      "\n",
      "[['tp' 'fp']\n",
      " ['fn' 'tn']]\n"
     ]
    }
   ],
   "source": [
    "import numpy as np\n",
    "from sklearn.metrics import confusion_matrix\n",
    "\n",
    "# 二値分類なので0, 1で表現\n",
    "y_true = [1, 0, 1, 1, 0, 1, 1, 0]\n",
    "y_pred = [0, 0, 1, 1, 0, 0, 1, 1]\n",
    "\n",
    "\n",
    "'''\n",
    "tp(True positive)  (予測:正　予測値:正例)\n",
    "tn(True negative)  (予測:正　予測値:負例)\n",
    "fp(False positive) (予測:誤　予測値:正例)\n",
    "fn(False negative) (予測:誤　予測値:負例)\n",
    "'''\n",
    "tp = np.sum((np.array(y_true) == 1) & (np.array(y_pred) == 1))\n",
    "tn = np.sum((np.array(y_true) == 0) & (np.array(y_pred) == 0))\n",
    "fp = np.sum((np.array(y_true) == 0) & (np.array(y_pred) == 1))\n",
    "fn = np.sum((np.array(y_true) == 1) & (np.array(y_pred) == 0))\n",
    "\n",
    "confusion_matrix1 = np.array(([tp, fp],\n",
    "                              [fn, tn]))\n",
    "print(confusion_matrix1)\n",
    "print()\n",
    "print(np.array((['tp', 'fp'],\n",
    "                ['fn', 'tn'])))"
   ]
  },
  {
   "cell_type": "markdown",
   "metadata": {},
   "source": [
    "行列内の数は当てはまるレコード数"
   ]
  },
  {
   "cell_type": "code",
   "execution_count": 2,
   "metadata": {},
   "outputs": [
    {
     "name": "stdout",
     "output_type": "stream",
     "text": [
      "[['tp' 'fn']\n",
      " ['fp' 'tn']]\n"
     ]
    },
    {
     "data": {
      "image/png": "[encoded data removed]",
      "text/plain": [
       "<Figure size 432x288 with 2 Axes>"
      ]
     },
     "metadata": {
      "needs_background": "light"
     },
     "output_type": "display_data"
    }
   ],
   "source": [
    "# 参考: https://scikit-learn.org/stable/auto_examples/model_selection/plot_confusion_matrix.html\n",
    "# scikit-learnのplot confusion matrix の使用例\n",
    "\n",
    "import matplotlib.pyplot as plt\n",
    "from sklearn import svm, datasets\n",
    "from sklearn.model_selection import train_test_split\n",
    "from sklearn.metrics import plot_confusion_matrix\n",
    "\n",
    "# 2値分類を解くので、2クラスのみ抽出。\n",
    "iris = datasets.load_iris()\n",
    "X = iris.data[:100]\n",
    "y = iris.target\n",
    "y = np.delete(y, np.where(y == 2))\n",
    "class_names = np.array(['setosa', 'versicolor'])\n",
    "\n",
    "train_x, test_x, train_y, test_y = train_test_split(X, y, random_state=42)\n",
    "model = svm.SVC(kernel='linear', C=0.01).fit(train_x, train_y)\n",
    "\n",
    "title = 'Confusion Matrix(not normalized)'\n",
    "disp = plot_confusion_matrix(model, test_x, test_y, display_labels=class_names, cmap=plt.cm.Blues)\n",
    "disp.ax_.set_title(title)\n",
    "\n",
    "# scikit-learnのconfusion matrixは転置している為、対応表をプリント。\n",
    "print(np.array((['tp', 'fp'],\n",
    "                ['fn', 'tn'])).T)\n",
    "\n",
    "plt.show()"
   ]
  },
  {
   "cell_type": "markdown",
   "metadata": {},
   "source": [
    "## Accuracy, Error rate"
   ]
  },
  {
   "cell_type": "markdown",
   "metadata": {},
   "source": [
    "$$\n",
    "\\large Accuracy=\\frac{TP+TN}{TP+TN+FP+FN}\n",
    "$$"
   ]
  },
  {
   "cell_type": "markdown",
   "metadata": {},
   "source": [
    "$$\n",
    "\\large ErrorRate=1-Accuracy\n",
    "$$"
   ]
  },
  {
   "cell_type": "markdown",
   "metadata": {},
   "source": [
    "・正答率と誤答率。上記はConfusionMatrixの要素を用いた式。\n",
    "\n",
    "・不均衡データの場合、モデルの評価をしづらく、分析コンペではあまり使われない。"
   ]
  },
  {
   "cell_type": "code",
   "execution_count": 3,
   "metadata": {},
   "outputs": [
    {
     "name": "stdout",
     "output_type": "stream",
     "text": [
      "0.625\n"
     ]
    }
   ],
   "source": [
    "from sklearn.metrics import accuracy_score\n",
    "\n",
    "accuracy = accuracy_score(y_true, y_pred)\n",
    "print(accuracy)"
   ]
  },
  {
   "cell_type": "markdown",
   "metadata": {},
   "source": [
    "## Precision, Recall"
   ]
  },
  {
   "cell_type": "markdown",
   "metadata": {},
   "source": [
    "$$\n",
    "\\large Precision=\\frac{TP}{TP+FP} \n",
    "$$"
   ]
  },
  {
   "cell_type": "markdown",
   "metadata": {},
   "source": [
    "$$\n",
    "\\large Recall=\\frac{TP}{TP+FN}\n",
    "$$"
   ]
  },
  {
   "cell_type": "markdown",
   "metadata": {},
   "source": [
    "・適合率と再現率。accuracy, error rateと同様にConfusionMatrixの要素を用いた式。\n",
    "\n",
    "・２つとも０〜１の値をとり、1に近づくほどよいスコア。\n",
    "\n",
    "・この2つはトレードオフの関係にあり、どちらか一方のみ値を高くしようとすると、片方が低くなる。\n",
    "<br>その為どちらか単体で分析コンペの指標として使われることはない。\n",
    "\n",
    "・誤検知を避けたい場合はprecisionを重視し、正例の見逃しを避けたい場合はrecallを重視することになる。"
   ]
  },
  {
   "cell_type": "code",
   "execution_count": 4,
   "metadata": {},
   "outputs": [
    {
     "name": "stdout",
     "output_type": "stream",
     "text": [
      "precision_score:  0.75\n",
      "recall_score:  0.6\n"
     ]
    }
   ],
   "source": [
    "from sklearn.metrics import precision_score, recall_score\n",
    "\n",
    "precision_score = precision_score(y_true, y_pred)\n",
    "recall_score = recall_score(y_true, y_pred)\n",
    "\n",
    "print('precision_score: ', precision_score)\n",
    "print('recall_score: ', recall_score)"
   ]
  },
  {
   "cell_type": "markdown",
   "metadata": {},
   "source": [
    "## F1-score, Fβ-score"
   ]
  },
  {
   "cell_type": "markdown",
   "metadata": {},
   "source": [
    "$$\n",
    "\\large F1=\\frac{2}{\\frac{1}{recall}+\\frac{1}{precision}}=\\frac{2\\cdot recall\\cdot precision}{recall+precision}=\\frac{2TP}{2TP+FP+FN}\n",
    "$$"
   ]
  },
  {
   "cell_type": "markdown",
   "metadata": {},
   "source": [
    "$$\n",
    "\\large F\\beta=\\frac{(1+\\beta^2)}{\\frac{\\beta^2}{recall}+\\frac{1}{precision}}=\\frac{(1+\\beta^2)\\cdot recall\\cdot precision}{recall+\\beta^2precision}\n",
    "$$"
   ]
  },
  {
   "cell_type": "markdown",
   "metadata": {},
   "source": [
    "・F1スコアはprecisionとrecallの調和平均で計算され、これら２つのバランスを取った指標となっている。F値とも言われる。\n",
    "\n",
    "・Fβスコアはrecallをどれだけ重視するかを表す係数βによって調整した指標。\n",
    "\n",
    "・F1スコアは分子がTPのみになっており、正例と負例を対称に扱っていない。<br>\n",
    "（真の値と予測値それぞれの正例と負例を入れ替わると挙動が変わる。）"
   ]
  },
  {
   "cell_type": "code",
   "execution_count": 5,
   "metadata": {},
   "outputs": [
    {
     "name": "stdout",
     "output_type": "stream",
     "text": [
      "f1_score:  0.6666666666666665\n",
      "fbeta_score:  0.7142857142857143\n"
     ]
    }
   ],
   "source": [
    "from sklearn.metrics import f1_score, fbeta_score\n",
    "\n",
    "f1_score = f1_score(y_true, y_pred)\n",
    "fbeta_score = fbeta_score(y_true, y_pred, beta=0.5)\n",
    "\n",
    "print('f1_score: ', f1_score)\n",
    "print('fbeta_score: ', fbeta_score)"
   ]
  },
  {
   "cell_type": "markdown",
   "metadata": {},
   "source": [
    "## MCC(Matthews Correlation Coefficient)\n",
    "\n",
    "$$\n",
    "\\large MCC = \\frac{TP \\times TN \\times FP \\times FN} {\\sqrt{(TP+FP)(TP+FN)(TN+FP)(TN+FN)}}\n",
    "$$"
   ]
  },
  {
   "cell_type": "markdown",
   "metadata": {},
   "source": [
    "・不均衡なデータに対してのモデルの評価性能を適切にしやすい指標。\n",
    "\n",
    "・-1 ~ +1の範囲の値をとり、<br>\n",
    "+1: 完璧な予測<br>\n",
    "&nbsp;0: ランダムな予測<br>\n",
    "-1: 完全に反対の予測<br>\n",
    "と見ることができる。\n",
    "\n",
    "・F1スコアと違い、正例と負例について対称に扱っている。"
   ]
  },
  {
   "cell_type": "code",
   "execution_count": 6,
   "metadata": {},
   "outputs": [
    {
     "name": "stdout",
     "output_type": "stream",
     "text": [
      "0.2581988897471611\n"
     ]
    }
   ],
   "source": [
    "from sklearn.metrics import matthews_corrcoef\n",
    "\n",
    "matthews_corrcoef = matthews_corrcoef(y_true, y_pred)\n",
    "\n",
    "print(matthews_corrcoef)"
   ]
  }
 ],
 "metadata": {
  "kernelspec": {
   "display_name": "Python 3",
   "language": "python",
   "name": "python3"
  },
  "language_info": {
   "codemirror_mode": {
    "name": "ipython",
    "version": 3
   },
   "file_extension": ".py",
   "mimetype": "text/x-python",
   "name": "python",
   "nbconvert_exporter": "python",
   "pygments_lexer": "ipython3",
   "version": "3.6.9"
  }
 },
 "nbformat": 4,
 "nbformat_minor": 2
}
